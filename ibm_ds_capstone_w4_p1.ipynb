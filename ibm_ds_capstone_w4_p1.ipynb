{
 "cells": [
  {
   "cell_type": "markdown",
   "metadata": {},
   "source": [
    "# Finding the best locations for new pharmacies (IBM Data Science Capstone Project)\n",
    "\n",
    "## Introduction / Business Problem\n",
    "\n",
    "### Problem\n",
    "\n",
    "The city of Vienna (capital city of Austria, Europe) has been experiencing a lot of growth in the recent years, which makes it attractive for old and new businesses alike. But this growth also comes with a number of challenges, one of them being the development of the healthcare system to accomodate an increasing number of inhabitants. Judging by the fact that the predictions about population increase had to be adjusted upwards every year since 1989 (see image below, in German), it becomes clear that planning has to start now in order to avoid shortages.\n",
    "\n",
    "![demographic development city of Vienna](https://www.wien.gv.at/statistik/bevoelkerung/images/bev-entw-hist-prog.png)\n",
    "\n",
    "Since rental space for businesses is not unlimited (especially in the center of the city), prices are ever increasing, making it essential to pick the right location for setting up new business. In addition, setting up businesses like pharmacies is regulated by local legislation, applying for a permit to set up a new pharmacy is a costly and time consuming process in itself, but even more so if a bad spot was chosen. While this is an optimization problem in itself, it all starts with knowing where demand will be coming from and evaluating locations from there.\n",
    "\n",
    "Lastly, there has been a lot of political debate whether or not doctors should be allowed to sell drugs directly to their patients, breaking the current legal monopoly currently held by pharmacies. As with most things, there are arguments for either side, but we hope to contribute to the discussion with some data-driven analysis.\n",
    "\n",
    "### Audience\n",
    "\n",
    "- Investors in the pharmaceutical industry, interested in making an informed decision about whether and where to invest in Vienna by setting up new pharmacies.\n",
    "- Public administration and city developers, wanting to decide where space should allocated to maximize public service in the coming decade.\n",
    "- Universities in and around Vienna, trying to plan how many students of pharmacology will best suit the needs of Vienna.\n",
    "- Politicians in Vienna, interested in some facts about how many pharmacies will be needed in the near future.\n",
    "\n"
   ]
  }
 ],
 "metadata": {
  "kernelspec": {
   "display_name": "Python 3",
   "language": "python",
   "name": "python3"
  },
  "language_info": {
   "codemirror_mode": {
    "name": "ipython",
    "version": 3
   },
   "file_extension": ".py",
   "mimetype": "text/x-python",
   "name": "python",
   "nbconvert_exporter": "python",
   "pygments_lexer": "ipython3",
   "version": "3.7.3"
  }
 },
 "nbformat": 4,
 "nbformat_minor": 4
}
